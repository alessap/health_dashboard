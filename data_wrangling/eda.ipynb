{
 "cells": [
  {
   "cell_type": "code",
   "execution_count": 1,
   "metadata": {},
   "outputs": [],
   "source": [
    "import pandas as pd\n",
    "from matplotlib import pyplot as plt"
   ]
  },
  {
   "cell_type": "code",
   "execution_count": 94,
   "metadata": {},
   "outputs": [],
   "source": [
    "import datetime"
   ]
  },
  {
   "cell_type": "code",
   "execution_count": 82,
   "metadata": {},
   "outputs": [],
   "source": [
    "df = pd.read_csv(\"healthpebbleraw.csv\")"
   ]
  },
  {
   "cell_type": "code",
   "execution_count": 83,
   "metadata": {},
   "outputs": [
    {
     "data": {
      "text/plain": [
       "Name                         object\n",
       "Name@type                    object\n",
       "PartitionKey                 object\n",
       "RowKey                       object\n",
       "Timestamp                    object\n",
       "VMC                           int64\n",
       "VMC@type                     object\n",
       "activity_mask                 int64\n",
       "activity_mask@type           object\n",
       "heart_beat_bpm                int64\n",
       "heart_beat_bpm@type          object\n",
       "light                         int64\n",
       "light@type                   object\n",
       "measurement_time_UTC         object\n",
       "measurement_time_UTC@type    object\n",
       "pitch                         int64\n",
       "pitch@type                   object\n",
       "steps                         int64\n",
       "steps@type                   object\n",
       "timestamp                    object\n",
       "timestamp@type               object\n",
       "yaw                           int64\n",
       "yaw@type                     object\n",
       "dtype: object"
      ]
     },
     "execution_count": 83,
     "metadata": {},
     "output_type": "execute_result"
    }
   ],
   "source": [
    "df.dtypes"
   ]
  },
  {
   "cell_type": "code",
   "execution_count": 84,
   "metadata": {},
   "outputs": [
    {
     "data": {
      "text/html": [
       "<div>\n",
       "<style scoped>\n",
       "    .dataframe tbody tr th:only-of-type {\n",
       "        vertical-align: middle;\n",
       "    }\n",
       "\n",
       "    .dataframe tbody tr th {\n",
       "        vertical-align: top;\n",
       "    }\n",
       "\n",
       "    .dataframe thead th {\n",
       "        text-align: right;\n",
       "    }\n",
       "</style>\n",
       "<table border=\"1\" class=\"dataframe\">\n",
       "  <thead>\n",
       "    <tr style=\"text-align: right;\">\n",
       "      <th></th>\n",
       "      <th>Name</th>\n",
       "      <th>Name@type</th>\n",
       "      <th>PartitionKey</th>\n",
       "      <th>RowKey</th>\n",
       "      <th>Timestamp</th>\n",
       "      <th>VMC</th>\n",
       "      <th>VMC@type</th>\n",
       "      <th>activity_mask</th>\n",
       "      <th>activity_mask@type</th>\n",
       "      <th>heart_beat_bpm</th>\n",
       "      <th>...</th>\n",
       "      <th>measurement_time_UTC</th>\n",
       "      <th>measurement_time_UTC@type</th>\n",
       "      <th>pitch</th>\n",
       "      <th>pitch@type</th>\n",
       "      <th>steps</th>\n",
       "      <th>steps@type</th>\n",
       "      <th>timestamp</th>\n",
       "      <th>timestamp@type</th>\n",
       "      <th>yaw</th>\n",
       "      <th>yaw@type</th>\n",
       "    </tr>\n",
       "  </thead>\n",
       "  <tbody>\n",
       "    <tr>\n",
       "      <th>0</th>\n",
       "      <td>Output binding message</td>\n",
       "      <td>Edm.String</td>\n",
       "      <td>healthpebbleraw</td>\n",
       "      <td>000205c7-94af-4700-8608-8280e8caa838</td>\n",
       "      <td>2020-04-21T15:23:49.796Z</td>\n",
       "      <td>6846</td>\n",
       "      <td>Edm.Int32</td>\n",
       "      <td>0</td>\n",
       "      <td>Edm.Int32</td>\n",
       "      <td>0</td>\n",
       "      <td>...</td>\n",
       "      <td>04/18/2020 10:19:00</td>\n",
       "      <td>Edm.String</td>\n",
       "      <td>5</td>\n",
       "      <td>Edm.Int32</td>\n",
       "      <td>5</td>\n",
       "      <td>Edm.Int32</td>\n",
       "      <td>2020-04-21 15:23:48.526759</td>\n",
       "      <td>Edm.String</td>\n",
       "      <td>3</td>\n",
       "      <td>Edm.Int32</td>\n",
       "    </tr>\n",
       "    <tr>\n",
       "      <th>1</th>\n",
       "      <td>Output binding message</td>\n",
       "      <td>Edm.String</td>\n",
       "      <td>healthpebbleraw</td>\n",
       "      <td>00056bff-07b7-4d95-ade0-005a0621a6b1</td>\n",
       "      <td>2020-04-18T05:08:48.264Z</td>\n",
       "      <td>6289</td>\n",
       "      <td>Edm.Int32</td>\n",
       "      <td>0</td>\n",
       "      <td>Edm.Int32</td>\n",
       "      <td>0</td>\n",
       "      <td>...</td>\n",
       "      <td>04/11/2020 16:35:00</td>\n",
       "      <td>Edm.String</td>\n",
       "      <td>4</td>\n",
       "      <td>Edm.Int32</td>\n",
       "      <td>29</td>\n",
       "      <td>Edm.Int32</td>\n",
       "      <td>2020-04-18 05:08:47.872431</td>\n",
       "      <td>Edm.String</td>\n",
       "      <td>2</td>\n",
       "      <td>Edm.Int32</td>\n",
       "    </tr>\n",
       "    <tr>\n",
       "      <th>2</th>\n",
       "      <td>Output binding message</td>\n",
       "      <td>Edm.String</td>\n",
       "      <td>healthpebbleraw</td>\n",
       "      <td>0008554c-a34e-40dc-9433-c4df5d31c322</td>\n",
       "      <td>2020-04-16T05:15:19.798Z</td>\n",
       "      <td>142</td>\n",
       "      <td>Edm.Int32</td>\n",
       "      <td>0</td>\n",
       "      <td>Edm.Int32</td>\n",
       "      <td>0</td>\n",
       "      <td>...</td>\n",
       "      <td>04/11/2020 15:33:00</td>\n",
       "      <td>Edm.String</td>\n",
       "      <td>7</td>\n",
       "      <td>Edm.Int32</td>\n",
       "      <td>0</td>\n",
       "      <td>Edm.Int32</td>\n",
       "      <td>2020-04-16 05:15:19.779121</td>\n",
       "      <td>Edm.String</td>\n",
       "      <td>6</td>\n",
       "      <td>Edm.Int32</td>\n",
       "    </tr>\n",
       "    <tr>\n",
       "      <th>3</th>\n",
       "      <td>Output binding message</td>\n",
       "      <td>Edm.String</td>\n",
       "      <td>healthpebbleraw</td>\n",
       "      <td>0008719d-90b9-46d4-ab7d-b0c430650b07</td>\n",
       "      <td>2020-04-20T15:31:21.001Z</td>\n",
       "      <td>2296</td>\n",
       "      <td>Edm.Int32</td>\n",
       "      <td>0</td>\n",
       "      <td>Edm.Int32</td>\n",
       "      <td>0</td>\n",
       "      <td>...</td>\n",
       "      <td>04/20/2020 07:20:00</td>\n",
       "      <td>Edm.String</td>\n",
       "      <td>6</td>\n",
       "      <td>Edm.Int32</td>\n",
       "      <td>0</td>\n",
       "      <td>Edm.Int32</td>\n",
       "      <td>2020-04-20 15:31:20.962146</td>\n",
       "      <td>Edm.String</td>\n",
       "      <td>3</td>\n",
       "      <td>Edm.Int32</td>\n",
       "    </tr>\n",
       "    <tr>\n",
       "      <th>4</th>\n",
       "      <td>Output binding message</td>\n",
       "      <td>Edm.String</td>\n",
       "      <td>healthpebbleraw</td>\n",
       "      <td>000b64f5-8cd4-4a08-b175-e7c6cbd829eb</td>\n",
       "      <td>2020-04-18T05:07:49.774Z</td>\n",
       "      <td>3230</td>\n",
       "      <td>Edm.Int32</td>\n",
       "      <td>0</td>\n",
       "      <td>Edm.Int32</td>\n",
       "      <td>75</td>\n",
       "      <td>...</td>\n",
       "      <td>04/11/2020 12:18:00</td>\n",
       "      <td>Edm.String</td>\n",
       "      <td>7</td>\n",
       "      <td>Edm.Int32</td>\n",
       "      <td>0</td>\n",
       "      <td>Edm.Int32</td>\n",
       "      <td>2020-04-18 05:07:49.381378</td>\n",
       "      <td>Edm.String</td>\n",
       "      <td>2</td>\n",
       "      <td>Edm.Int32</td>\n",
       "    </tr>\n",
       "  </tbody>\n",
       "</table>\n",
       "<p>5 rows × 23 columns</p>\n",
       "</div>"
      ],
      "text/plain": [
       "                     Name   Name@type     PartitionKey  \\\n",
       "0  Output binding message  Edm.String  healthpebbleraw   \n",
       "1  Output binding message  Edm.String  healthpebbleraw   \n",
       "2  Output binding message  Edm.String  healthpebbleraw   \n",
       "3  Output binding message  Edm.String  healthpebbleraw   \n",
       "4  Output binding message  Edm.String  healthpebbleraw   \n",
       "\n",
       "                                 RowKey                 Timestamp   VMC  \\\n",
       "0  000205c7-94af-4700-8608-8280e8caa838  2020-04-21T15:23:49.796Z  6846   \n",
       "1  00056bff-07b7-4d95-ade0-005a0621a6b1  2020-04-18T05:08:48.264Z  6289   \n",
       "2  0008554c-a34e-40dc-9433-c4df5d31c322  2020-04-16T05:15:19.798Z   142   \n",
       "3  0008719d-90b9-46d4-ab7d-b0c430650b07  2020-04-20T15:31:21.001Z  2296   \n",
       "4  000b64f5-8cd4-4a08-b175-e7c6cbd829eb  2020-04-18T05:07:49.774Z  3230   \n",
       "\n",
       "    VMC@type  activity_mask activity_mask@type  heart_beat_bpm  ...  \\\n",
       "0  Edm.Int32              0          Edm.Int32               0  ...   \n",
       "1  Edm.Int32              0          Edm.Int32               0  ...   \n",
       "2  Edm.Int32              0          Edm.Int32               0  ...   \n",
       "3  Edm.Int32              0          Edm.Int32               0  ...   \n",
       "4  Edm.Int32              0          Edm.Int32              75  ...   \n",
       "\n",
       "  measurement_time_UTC  measurement_time_UTC@type pitch pitch@type steps  \\\n",
       "0  04/18/2020 10:19:00                 Edm.String     5  Edm.Int32     5   \n",
       "1  04/11/2020 16:35:00                 Edm.String     4  Edm.Int32    29   \n",
       "2  04/11/2020 15:33:00                 Edm.String     7  Edm.Int32     0   \n",
       "3  04/20/2020 07:20:00                 Edm.String     6  Edm.Int32     0   \n",
       "4  04/11/2020 12:18:00                 Edm.String     7  Edm.Int32     0   \n",
       "\n",
       "   steps@type                   timestamp  timestamp@type yaw   yaw@type  \n",
       "0   Edm.Int32  2020-04-21 15:23:48.526759      Edm.String   3  Edm.Int32  \n",
       "1   Edm.Int32  2020-04-18 05:08:47.872431      Edm.String   2  Edm.Int32  \n",
       "2   Edm.Int32  2020-04-16 05:15:19.779121      Edm.String   6  Edm.Int32  \n",
       "3   Edm.Int32  2020-04-20 15:31:20.962146      Edm.String   3  Edm.Int32  \n",
       "4   Edm.Int32  2020-04-18 05:07:49.381378      Edm.String   2  Edm.Int32  \n",
       "\n",
       "[5 rows x 23 columns]"
      ]
     },
     "execution_count": 84,
     "metadata": {},
     "output_type": "execute_result"
    }
   ],
   "source": [
    "df.head()"
   ]
  },
  {
   "cell_type": "code",
   "execution_count": 85,
   "metadata": {},
   "outputs": [
    {
     "name": "stdout",
     "output_type": "stream",
     "text": [
      "(46456, 8)\n"
     ]
    }
   ],
   "source": [
    "df_clean = df.drop(\n",
    "    columns=list(\n",
    "        set([\"Timestamp\", \"timestamp\", \"Name\", \"Name@type\", \"PartitionKey\", \"RowKey\"] \n",
    "            + [col for col in df.columns if \"@\" in col]\n",
    "           )\n",
    "    )\n",
    ").copy()\n",
    "print(df_clean.shape)"
   ]
  },
  {
   "cell_type": "code",
   "execution_count": 86,
   "metadata": {},
   "outputs": [
    {
     "data": {
      "text/plain": [
       "(31903, 8)"
      ]
     },
     "execution_count": 86,
     "metadata": {},
     "output_type": "execute_result"
    }
   ],
   "source": [
    "df_clean = df_clean.drop_duplicates()\n",
    "df_clean.shape"
   ]
  },
  {
   "cell_type": "code",
   "execution_count": 87,
   "metadata": {},
   "outputs": [
    {
     "data": {
      "text/html": [
       "<div>\n",
       "<style scoped>\n",
       "    .dataframe tbody tr th:only-of-type {\n",
       "        vertical-align: middle;\n",
       "    }\n",
       "\n",
       "    .dataframe tbody tr th {\n",
       "        vertical-align: top;\n",
       "    }\n",
       "\n",
       "    .dataframe thead th {\n",
       "        text-align: right;\n",
       "    }\n",
       "</style>\n",
       "<table border=\"1\" class=\"dataframe\">\n",
       "  <thead>\n",
       "    <tr style=\"text-align: right;\">\n",
       "      <th></th>\n",
       "      <th>VMC</th>\n",
       "      <th>activity_mask</th>\n",
       "      <th>heart_beat_bpm</th>\n",
       "      <th>light</th>\n",
       "      <th>measurement_time_UTC</th>\n",
       "      <th>pitch</th>\n",
       "      <th>steps</th>\n",
       "      <th>yaw</th>\n",
       "    </tr>\n",
       "  </thead>\n",
       "  <tbody>\n",
       "    <tr>\n",
       "      <th>0</th>\n",
       "      <td>6846</td>\n",
       "      <td>0</td>\n",
       "      <td>0</td>\n",
       "      <td>1</td>\n",
       "      <td>04/18/2020 10:19:00</td>\n",
       "      <td>5</td>\n",
       "      <td>5</td>\n",
       "      <td>3</td>\n",
       "    </tr>\n",
       "    <tr>\n",
       "      <th>1</th>\n",
       "      <td>6289</td>\n",
       "      <td>0</td>\n",
       "      <td>0</td>\n",
       "      <td>4</td>\n",
       "      <td>04/11/2020 16:35:00</td>\n",
       "      <td>4</td>\n",
       "      <td>29</td>\n",
       "      <td>2</td>\n",
       "    </tr>\n",
       "    <tr>\n",
       "      <th>2</th>\n",
       "      <td>142</td>\n",
       "      <td>0</td>\n",
       "      <td>0</td>\n",
       "      <td>1</td>\n",
       "      <td>04/11/2020 15:33:00</td>\n",
       "      <td>7</td>\n",
       "      <td>0</td>\n",
       "      <td>6</td>\n",
       "    </tr>\n",
       "    <tr>\n",
       "      <th>3</th>\n",
       "      <td>2296</td>\n",
       "      <td>0</td>\n",
       "      <td>0</td>\n",
       "      <td>1</td>\n",
       "      <td>04/20/2020 07:20:00</td>\n",
       "      <td>6</td>\n",
       "      <td>0</td>\n",
       "      <td>3</td>\n",
       "    </tr>\n",
       "    <tr>\n",
       "      <th>4</th>\n",
       "      <td>3230</td>\n",
       "      <td>0</td>\n",
       "      <td>75</td>\n",
       "      <td>1</td>\n",
       "      <td>04/11/2020 12:18:00</td>\n",
       "      <td>7</td>\n",
       "      <td>0</td>\n",
       "      <td>2</td>\n",
       "    </tr>\n",
       "  </tbody>\n",
       "</table>\n",
       "</div>"
      ],
      "text/plain": [
       "    VMC  activity_mask  heart_beat_bpm  light measurement_time_UTC  pitch  \\\n",
       "0  6846              0               0      1  04/18/2020 10:19:00      5   \n",
       "1  6289              0               0      4  04/11/2020 16:35:00      4   \n",
       "2   142              0               0      1  04/11/2020 15:33:00      7   \n",
       "3  2296              0               0      1  04/20/2020 07:20:00      6   \n",
       "4  3230              0              75      1  04/11/2020 12:18:00      7   \n",
       "\n",
       "   steps  yaw  \n",
       "0      5    3  \n",
       "1     29    2  \n",
       "2      0    6  \n",
       "3      0    3  \n",
       "4      0    2  "
      ]
     },
     "execution_count": 87,
     "metadata": {},
     "output_type": "execute_result"
    }
   ],
   "source": [
    "df_clean.head()"
   ]
  },
  {
   "cell_type": "code",
   "execution_count": 88,
   "metadata": {},
   "outputs": [
    {
     "data": {
      "text/plain": [
       "(31901, 8)"
      ]
     },
     "execution_count": 88,
     "metadata": {},
     "output_type": "execute_result"
    }
   ],
   "source": [
    "df_clean = df_clean.loc[df_clean.measurement_time_UTC.str.contains(\":\")].copy()\n",
    "df_clean.shape"
   ]
  },
  {
   "cell_type": "code",
   "execution_count": 89,
   "metadata": {},
   "outputs": [],
   "source": [
    "df_clean.measurement_time_UTC = pd.to_datetime(df_clean.measurement_time_UTC, utc=True)"
   ]
  },
  {
   "cell_type": "code",
   "execution_count": 90,
   "metadata": {},
   "outputs": [],
   "source": [
    "df_clean = df_clean.sort_values(by=\"measurement_time_UTC\").copy()"
   ]
  },
  {
   "cell_type": "code",
   "execution_count": 115,
   "metadata": {},
   "outputs": [],
   "source": [
    "date_test = datetime.datetime.strptime(\"2020-05-01\", \"%Y-%m-%d\").date()\n",
    "df_test = df_clean.loc[df_clean.measurement_time_UTC.dt.date == date_test].copy()"
   ]
  },
  {
   "cell_type": "code",
   "execution_count": 120,
   "metadata": {},
   "outputs": [
    {
     "data": {
      "text/plain": [
       "41689     0\n",
       "45367     0\n",
       "4845      0\n",
       "24648     0\n",
       "11648    76\n",
       "18402     0\n",
       "38680     0\n",
       "29180     0\n",
       "34428     0\n",
       "12286     0\n",
       "Name: heart_beat_bpm, dtype: int64"
      ]
     },
     "execution_count": 120,
     "metadata": {},
     "output_type": "execute_result"
    }
   ],
   "source": [
    "df_test.heart_beat_bpm.sample(10)"
   ]
  },
  {
   "cell_type": "code",
   "execution_count": null,
   "metadata": {},
   "outputs": [],
   "source": []
  },
  {
   "cell_type": "code",
   "execution_count": 116,
   "metadata": {},
   "outputs": [
    {
     "data": {
      "text/plain": [
       "<matplotlib.axes._subplots.AxesSubplot at 0x7fb481c012d0>"
      ]
     },
     "execution_count": 116,
     "metadata": {},
     "output_type": "execute_result"
    },
    {
     "data": {
      "image/png": "[encoded data removed]",
      "text/plain": [
       "<Figure size 432x288 with 1 Axes>"
      ]
     },
     "metadata": {
      "needs_background": "light"
     },
     "output_type": "display_data"
    }
   ],
   "source": [
    "df_test.plot(x=\"measurement_time_UTC\", y=\"heart_beat_bpm\")"
   ]
  },
  {
   "cell_type": "code",
   "execution_count": 97,
   "metadata": {},
   "outputs": [
    {
     "data": {
      "text/plain": [
       "datetime.date(2020, 5, 1)"
      ]
     },
     "execution_count": 97,
     "metadata": {},
     "output_type": "execute_result"
    }
   ],
   "source": []
  },
  {
   "cell_type": "code",
   "execution_count": null,
   "metadata": {},
   "outputs": [],
   "source": []
  }
 ],
 "metadata": {
  "kernelspec": {
   "display_name": "Python 3",
   "language": "python",
   "name": "python3"
  },
  "language_info": {
   "codemirror_mode": {
    "name": "ipython",
    "version": 3
   },
   "file_extension": ".py",
   "mimetype": "text/x-python",
   "name": "python",
   "nbconvert_exporter": "python",
   "pygments_lexer": "ipython3",
   "version": "3.7.4"
  }
 },
 "nbformat": 4,
 "nbformat_minor": 4
}
